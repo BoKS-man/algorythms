{
 "cells": [
  {
   "cell_type": "markdown",
   "metadata": {
    "collapsed": true
   },
   "source": [
    "<h1>Task 1"
   ]
  },
  {
   "cell_type": "code",
   "execution_count": 1,
   "metadata": {
    "collapsed": true
   },
   "outputs": [],
   "source": [
    "class forest:\n",
    "    swap_log = []\n",
    "    tree = []\n",
    "    \n",
    "    def parent(self, i):\n",
    "        return int((i-1)/2)\n",
    "\n",
    "    def left_child(self, i):\n",
    "        return 2*i+1\n",
    "\n",
    "    def right_child(self, i):\n",
    "        return 2*i+2\n",
    "\n",
    "    def swap(self, i1, i2):\n",
    "        #print('swap ' + str(i1) + ' and ' + str(i2))\n",
    "        self.swap_log.append([i1, i2])\n",
    "        i = self.tree[i1]\n",
    "        self.tree[i1] = self.tree[i2]\n",
    "        self.tree[i2] = i\n",
    "\n",
    "    def min_sift_down(self, i):\n",
    "        #print('sift_down: ' + str(i))\n",
    "        min_index = i\n",
    "        l = self.left_child(i)\n",
    "        if l <= len(self.tree) and self.tree[l] < self.tree[min_index]:\n",
    "            min_index = l\n",
    "        z = self.right_child(i)\n",
    "        if z <= len(self.tree) and self.tree[z] < self.tree[min_index]:\n",
    "            min_index = z\n",
    "        if i != min_index:\n",
    "            self.swap(i, min_index)\n",
    "            self.min_sift_down(min_index)\n",
    "\n",
    "    def log_make_heap(self, n, tree):\n",
    "        self.swap_log = []\n",
    "        self.tree = tree\n",
    "        i = int(n/2)-1\n",
    "        while i >= 0:\n",
    "            #print(i)\n",
    "            self.min_sift_down(i)\n",
    "            i -= 1\n",
    "        self.swap_log.insert(0, len(self.swap_log))\n",
    "        return self.swap_log"
   ]
  },
  {
   "cell_type": "code",
   "execution_count": 2,
   "metadata": {},
   "outputs": [
    {
     "name": "stdout",
     "output_type": "stream",
     "text": [
      "[3, [1, 4], [0, 1], [1, 3]]\n",
      "[0]\n"
     ]
    }
   ],
   "source": [
    "a = forest()\n",
    "print(a.log_make_heap(5, [5,4,3,2,1])),\\\n",
    "#3,[[1,4],[0,1],[1,3]]\n",
    "print(a.log_make_heap(5, [1,2,3,4,5]))\n",
    "#0"
   ]
  },
  {
   "cell_type": "markdown",
   "metadata": {
    "collapsed": true
   },
   "source": [
    "<h1>Task 2"
   ]
  },
  {
   "cell_type": "code",
   "execution_count": 46,
   "metadata": {
    "collapsed": true
   },
   "outputs": [],
   "source": [
    "class forest2(forest):\n",
    "    \n",
    "    def min_sift_down(self, i):\n",
    "        #print('sift_down: ' + str(i))\n",
    "        min_index = i\n",
    "        l = self.left_child(i)\n",
    "        if l < len(self.tree) and\\\n",
    "        self.tree[l][1] <= self.tree[min_index][1]:\n",
    "            min_index = l\n",
    "        r = self.right_child(i)\n",
    "        if r < len(self.tree) and\\\n",
    "        ((self.tree[r][1] <= self.tree[min_index][1] and\\\n",
    "         self.tree[r][0] < self.tree[min_index][0]) or\\\n",
    "        self.tree[r][1] < self.tree[min_index][1]):\n",
    "            min_index = r\n",
    "        if i != min_index:\n",
    "            self.swap(i, min_index)\n",
    "            self.min_sift_down(min_index)\n",
    "    \n",
    "    def tasks2treads(self,r1,r2):\n",
    "        result = []\n",
    "        n = r1[0]\n",
    "        m = r1[1]\n",
    "        self.tree = []\n",
    "        for i in range(n):\n",
    "            self.tree.append([i, 0])\n",
    "        for i in r2:\n",
    "            result.append([self.tree[0][0], self.tree[0][1]])\n",
    "            print(self.tree)\n",
    "            self.tree[0][1] += i\n",
    "            self.min_sift_down(0)\n",
    "        return result"
   ]
  },
  {
   "cell_type": "code",
   "execution_count": 47,
   "metadata": {
    "scrolled": true
   },
   "outputs": [
    {
     "name": "stdout",
     "output_type": "stream",
     "text": [
      "[[0, 0], [1, 0]]\n",
      "[[1, 0], [0, 1]]\n",
      "[[0, 1], [1, 2]]\n",
      "[[1, 2], [0, 4]]\n",
      "[[0, 4], [1, 6]]\n",
      "[[0, 0], [1, 0], [0, 1], [1, 2], [0, 4]]\n",
      "[[0, 0], [1, 0], [2, 0], [3, 0]]\n",
      "[[1, 0], [3, 0], [2, 0], [0, 1]]\n",
      "[[2, 0], [3, 0], [1, 1], [0, 1]]\n",
      "[[3, 0], [0, 1], [1, 1], [2, 1]]\n",
      "[[0, 1], [2, 1], [1, 1], [3, 1]]\n",
      "[[1, 1], [2, 1], [0, 2], [3, 1]]\n",
      "[[2, 1], [3, 1], [0, 2], [1, 2]]\n",
      "[[3, 1], [1, 2], [0, 2], [2, 2]]\n",
      "[[0, 2], [1, 2], [3, 2], [2, 2]]\n",
      "[[1, 2], [2, 2], [3, 2], [0, 3]]\n",
      "[[2, 2], [0, 3], [3, 2], [1, 3]]\n",
      "[[3, 2], [0, 3], [2, 3], [1, 3]]\n",
      "[[0, 3], [1, 3], [2, 3], [3, 3]]\n",
      "[[1, 3], [3, 3], [2, 3], [0, 4]]\n",
      "[[2, 3], [3, 3], [1, 4], [0, 4]]\n",
      "[[3, 3], [0, 4], [1, 4], [2, 4]]\n",
      "[[0, 4], [2, 4], [1, 4], [3, 4]]\n",
      "[[1, 4], [2, 4], [0, 5], [3, 4]]\n",
      "[[2, 4], [3, 4], [0, 5], [1, 5]]\n",
      "[[3, 4], [1, 5], [0, 5], [2, 5]]\n",
      "[[0, 0], [1, 0], [2, 0], [3, 0], [0, 1], [1, 1], [2, 1], [3, 1], [0, 2], [1, 2], [2, 2], [3, 2], [0, 3], [1, 3], [2, 3], [3, 3], [0, 4], [1, 4], [2, 4], [3, 4]]\n"
     ]
    }
   ],
   "source": [
    "f2 = forest2()\n",
    "print(f2.tasks2treads([2,5],[1,2,3,4,5])),\\\n",
    "#[[0,0],[1,0],[0,1],[1,2],[0,4]]\n",
    "print(f2.tasks2treads([4,20],[1,1,1,1,1,1,1,1,1,1,1,1,1,1,1,1,1,1,1,1]))\n",
    "#[[0,0],[1,0],[2,0],[3,0],[0,1],[1,1],[2,1],[3,1],[0,2],[1,2],\n",
    "#[2,2],[3,2],[0,3],[1,3],[2,3],[3,3],[0,4],[1,4],[2,4],[3,4]]"
   ]
  },
  {
   "cell_type": "code",
   "execution_count": 9,
   "metadata": {},
   "outputs": [
    {
     "data": {
      "text/plain": [
       "3"
      ]
     },
     "execution_count": 9,
     "metadata": {},
     "output_type": "execute_result"
    }
   ],
   "source": [
    "f3 = forest2()\n",
    "f3.get_min(3)"
   ]
  },
  {
   "cell_type": "code",
   "execution_count": null,
   "metadata": {
    "collapsed": true
   },
   "outputs": [],
   "source": []
  },
  {
   "cell_type": "code",
   "execution_count": null,
   "metadata": {
    "collapsed": true
   },
   "outputs": [],
   "source": []
  }
 ],
 "metadata": {
  "kernelspec": {
   "display_name": "Python 3",
   "language": "python",
   "name": "python3"
  },
  "language_info": {
   "codemirror_mode": {
    "name": "ipython",
    "version": 3
   },
   "file_extension": ".py",
   "mimetype": "text/x-python",
   "name": "python",
   "nbconvert_exporter": "python",
   "pygments_lexer": "ipython3",
   "version": "3.6.1"
  }
 },
 "nbformat": 4,
 "nbformat_minor": 2
}
