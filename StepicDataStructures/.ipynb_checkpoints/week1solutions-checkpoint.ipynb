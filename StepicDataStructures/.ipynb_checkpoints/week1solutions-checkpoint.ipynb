{
 "cells": [
  {
   "cell_type": "markdown",
   "metadata": {},
   "source": [
    "<h1>Task 1"
   ]
  },
  {
   "cell_type": "code",
   "execution_count": null,
   "metadata": {
    "collapsed": true
   },
   "outputs": [],
   "source": [
    "def check_brackets(s):\n",
    "    stack = []\n",
    "    indexes = []\n",
    "    brackets = ['[',']','(',')','{','}']\n",
    "    for i in range(len(s)):\n",
    "        if brackets.count(s[i]) > 0:\n",
    "            if brackets.index(s[i]) % 2 == 0:\n",
    "                stack.append(s[i])\n",
    "                indexes.append(i + 1)\n",
    "            else:\n",
    "                if len(stack) > 0 and\\\n",
    "                stack[len(stack)-1] == brackets[brackets.index(s[i]) - 1]:\n",
    "                    stack.pop()\n",
    "                    indexes.pop()\n",
    "                else:\n",
    "                    return i + 1\n",
    "    if len(indexes) > 0:\n",
    "        return(indexes[0])\n",
    "    return ('Success')"
   ]
  },
  {
   "cell_type": "code",
   "execution_count": 42,
   "metadata": {},
   "outputs": [
    {
     "data": {
      "text/plain": [
       "('Success', 'Success', 'Success', 'Success', 'Success', 1, 3, 'Success', 10)"
      ]
     },
     "execution_count": 42,
     "metadata": {},
     "output_type": "execute_result"
    }
   ],
   "source": [
    "check_brackets('[]'),\\\n",
    "check_brackets('{}[]'),\\\n",
    "check_brackets('[()]'),\\\n",
    "check_brackets('(())'),\\\n",
    "check_brackets('{[]}()'),\\\n",
    "check_brackets('{'),\\\n",
    "check_brackets('{[}'),\\\n",
    "check_brackets('foo(bar);'),\\\n",
    "check_brackets('foo(bar[i);'),\\"
   ]
  },
  {
   "cell_type": "markdown",
   "metadata": {},
   "source": [
    "<h1>Task 2"
   ]
  },
  {
   "cell_type": "code",
   "execution_count": 44,
   "metadata": {
    "collapsed": true
   },
   "outputs": [],
   "source": [
    "def find_tree_depth(num, dots_parents):\n",
    "    total_depth = 0\n",
    "    for i in range(num):\n",
    "        dot_depth = find_dot_depth(i, dots_parents)\n",
    "        if dot_depth > total_depth:\n",
    "            total_depth = dot_depth\n",
    "    return total_depth"
   ]
  },
  {
   "cell_type": "code",
   "execution_count": 45,
   "metadata": {
    "collapsed": true
   },
   "outputs": [],
   "source": [
    "def find_dot_depth(index, tree):\n",
    "    if tree[index] < 0:\n",
    "        return 1\n",
    "    return find_dot_depth(tree[index], tree) + 1"
   ]
  },
  {
   "cell_type": "code",
   "execution_count": 46,
   "metadata": {},
   "outputs": [
    {
     "data": {
      "text/plain": [
       "(3, 4)"
      ]
     },
     "execution_count": 46,
     "metadata": {},
     "output_type": "execute_result"
    }
   ],
   "source": [
    "find_tree_depth(5,[4,-1,4,1,1]),\\\n",
    "find_tree_depth(5,[-1,0,4,0,3])"
   ]
  },
  {
   "cell_type": "markdown",
   "metadata": {},
   "source": [
    "<h1>Task 3"
   ]
  },
  {
   "cell_type": "code",
   "execution_count": 43,
   "metadata": {},
   "outputs": [],
   "source": [
    "def pkg_process(size, n, pkgs):\n",
    "    process = []\n",
    "    log = {}\n",
    "    for pkg in pkgs:\n",
    "        work_result = pkg[0]\n",
    "        for l in range(pkg[0], pkg[1] + pkg[0]):\n",
    "            if log.get(l, 0) < size:\n",
    "                log[l] = log.get(l, 0) + 1\n",
    "            else:\n",
    "                work_result = -1\n",
    "        process.append(work_result)\n",
    "    return process\n",
    "        "
   ]
  },
  {
   "cell_type": "code",
   "execution_count": 44,
   "metadata": {},
   "outputs": [
    {
     "data": {
      "text/plain": [
       "([], [0], [0, -1], [0, 1])"
      ]
     },
     "execution_count": 44,
     "metadata": {},
     "output_type": "execute_result"
    }
   ],
   "source": [
    "pkg_process(1,2,[]),\\\n",
    "pkg_process(1,1,[[0,0]]),\\\n",
    "pkg_process(1,2,[[0,1],[0,1]]),\\\n",
    "pkg_process(1,2,[[0,1],[1,1]])"
   ]
  },
  {
   "cell_type": "markdown",
   "metadata": {},
   "source": [
    "<h1>Task 4"
   ]
  },
  {
   "cell_type": "code",
   "execution_count": 54,
   "metadata": {},
   "outputs": [],
   "source": [
    "def process_max_stack(incoming):\n",
    "    cmd_count = -1\n",
    "    stack = []\n",
    "    s_max = []\n",
    "    result = []\n",
    "    for task in incoming:\n",
    "        if cmd_count < 0:\n",
    "            cmd_count = int(task)\n",
    "            continue\n",
    "        cmd = task.split(' ')\n",
    "        l_max = s_max[len(s_max) - 1] if len(s_max) > 0 else 0\n",
    "        if cmd[0] == 'max':\n",
    "            result.append(l_max)\n",
    "        elif cmd[0] == 'pop':\n",
    "            stack.pop()\n",
    "            s_max.pop()\n",
    "        elif cmd[0] == 'push':\n",
    "            stack.append(cmd[1])\n",
    "            if len(s_max) == 0 or l_max < cmd[1]:\n",
    "                s_max.append(cmd[1])\n",
    "            else:\n",
    "                s_max.append(l_max)\n",
    "    return result"
   ]
  },
  {
   "cell_type": "code",
   "execution_count": 55,
   "metadata": {},
   "outputs": [
    {
     "data": {
      "text/plain": [
       "([], ['2', '2'], ['7', '7'], ['2', '1'], ['9', '9', '9', '9'])"
      ]
     },
     "execution_count": 55,
     "metadata": {},
     "output_type": "execute_result"
    }
   ],
   "source": [
    "process_max_stack([\"3\",\"push 1\",\"push 7\",\"pop\"]),\\\n",
    "process_max_stack([\"5\",\"push 2\",\"push 1\",\"max\",\"pop\",\"max\"]),\\\n",
    "process_max_stack([\"6\",\"push 7\",\"push 1\",\"push 7\",\"max\",\"pop\",\"max\"]),\\\n",
    "process_max_stack([\"5\",\"push 1\",\"push 2\",\"max\",\"pop\",\"max\"]),\\\n",
    "process_max_stack([\"10\",\"push 2\",\"push 3\",\"push 9\",\"push 7\",\\\n",
    "                   \"push 2\",\"max\",\"max\",\"max\",\"pop\",\"max\"])\n",
    "#([],[2,2],[7,7],[2,1],[9,9,9,9])"
   ]
  },
  {
   "cell_type": "markdown",
   "metadata": {},
   "source": [
    "<h1>Task 5"
   ]
  },
  {
   "cell_type": "code",
   "execution_count": null,
   "metadata": {
    "collapsed": true
   },
   "outputs": [],
   "source": []
  },
  {
   "cell_type": "code",
   "execution_count": null,
   "metadata": {
    "collapsed": true
   },
   "outputs": [],
   "source": []
  },
  {
   "cell_type": "code",
   "execution_count": null,
   "metadata": {
    "collapsed": true
   },
   "outputs": [],
   "source": []
  },
  {
   "cell_type": "code",
   "execution_count": null,
   "metadata": {
    "collapsed": true
   },
   "outputs": [],
   "source": []
  },
  {
   "cell_type": "code",
   "execution_count": null,
   "metadata": {
    "collapsed": true
   },
   "outputs": [],
   "source": []
  },
  {
   "cell_type": "code",
   "execution_count": null,
   "metadata": {
    "collapsed": true
   },
   "outputs": [],
   "source": []
  },
  {
   "cell_type": "code",
   "execution_count": null,
   "metadata": {
    "collapsed": true
   },
   "outputs": [],
   "source": []
  }
 ],
 "metadata": {
  "kernelspec": {
   "display_name": "Python 3",
   "language": "python",
   "name": "python3"
  },
  "language_info": {
   "codemirror_mode": {
    "name": "ipython",
    "version": 3
   },
   "file_extension": ".py",
   "mimetype": "text/x-python",
   "name": "python",
   "nbconvert_exporter": "python",
   "pygments_lexer": "ipython3",
   "version": "3.6.1"
  }
 },
 "nbformat": 4,
 "nbformat_minor": 2
}
