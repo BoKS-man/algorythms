{
 "cells": [
  {
   "cell_type": "markdown",
   "metadata": {},
   "source": [
    "<h1>Task 1"
   ]
  },
  {
   "cell_type": "code",
   "execution_count": 2,
   "metadata": {
    "collapsed": true
   },
   "outputs": [],
   "source": [
    "def in_order_run(tree, root):\n",
    "    arr = []\n",
    "    if root < 0:\n",
    "        return []\n",
    "    arr = in_order_run(tree, tree[root][1])\n",
    "    arr += [str(tree[root][0])]\n",
    "    arr += in_order_run(tree, tree[root][2])\n",
    "    return arr\n",
    "\n",
    "def pre_order_run(tree, root):\n",
    "    arr = []\n",
    "    if root < 0:\n",
    "        return []\n",
    "    arr = [str(tree[root][0])]\n",
    "    arr += pre_order_run(tree, tree[root][1])\n",
    "    arr += pre_order_run(tree, tree[root][2])\n",
    "    return arr\n",
    "\n",
    "def post_order_run(tree, root):\n",
    "    arr = []\n",
    "    if root < 0:\n",
    "        return []\n",
    "    arr = post_order_run(tree, tree[root][1])\n",
    "    arr += post_order_run(tree, tree[root][2])\n",
    "    arr += [str(tree[root][0])]\n",
    "    return arr\n",
    "\n",
    "def run_tree(tree):\n",
    "    print(' '.join(in_order_run(tree, 0)))\n",
    "    print(' '.join(pre_order_run(tree, 0)))\n",
    "    print(' '.join(post_order_run(tree, 0)))\n",
    "    return\n",
    "\n",
    "def run():\n",
    "    input_tree = []\n",
    "    n = int(input())\n",
    "    for i in range(n):\n",
    "        input_tree.append([int(c) for c in input().split(' ')])\n",
    "    run_tree(input_tree)"
   ]
  },
  {
   "cell_type": "code",
   "execution_count": 3,
   "metadata": {},
   "outputs": [
    {
     "name": "stdout",
     "output_type": "stream",
     "text": [
      "1 2 3 4 5\n",
      "4 2 1 3 5\n",
      "1 3 2 5 4\n",
      "50 70 80 30 90 40 0 20 10 60\n",
      "0 70 50 40 30 80 90 20 60 10\n",
      "50 80 90 30 40 70 10 60 20 0\n"
     ]
    }
   ],
   "source": [
    "run_tree([[4,1,2],[2,3,4],[5,-1,-1],[1,-1,-1],[3,-1,-1]])\n",
    "#[1,2,3,4,5],[4,2,1,3,5],[1,3,2,5,4]\n",
    "run_tree([[0,7,2],[10,-1,-1],[20,-1,6],[30,8,9],[40,3,-1],[50,-1,-1],[60,1,-1],[70,5,4],[80,-1,-1],[90,-1,-1]])\n",
    "#[50,70,80,30,90,40,0,20,10,60],[0,70,50,40,30,80,90,20,60,10],[50,80,90,30,40,70,10,60,20,0]"
   ]
  },
  {
   "cell_type": "markdown",
   "metadata": {
    "collapsed": true
   },
   "source": [
    "<h1>Task 2"
   ]
  },
  {
   "cell_type": "code",
   "execution_count": 3,
   "metadata": {
    "collapsed": true
   },
   "outputs": [],
   "source": [
    "def check_tree(tree, root = 0):\n",
    "    if len(tree) == 0 or (tree[root][1] < 0 and tree[root][2] < 0) or\\\n",
    "    ((tree[root][1] < 0 or tree[root][0] > tree[tree[root][1]][0]) and\n",
    "     (tree[root][2] < 0 or tree[root][0] < tree[tree[root][2]][0]) and\\\n",
    "     (tree[root][1] < 0 or check_tree(tree, tree[root][1]) > 0) and\\\n",
    "     (tree[root][2] < 0 or check_tree(tree, tree[root][2]) > 0)):\n",
    "        return 1\n",
    "    else:\n",
    "        return 0\n",
    "\n",
    "def run():\n",
    "    input_tree = []\n",
    "    n = int(input())\n",
    "    for i in range(n):\n",
    "        input_tree.append([int(c) for c in input().split(' ')])\n",
    "    check_tree(input_tree, 0)"
   ]
  },
  {
   "cell_type": "code",
   "execution_count": 4,
   "metadata": {},
   "outputs": [
    {
     "name": "stdout",
     "output_type": "stream",
     "text": [
      "1\n",
      "0\n",
      "1\n",
      "1\n",
      "1\n",
      "1\n"
     ]
    }
   ],
   "source": [
    "print(check_tree([[2,1,2],[1,-1,-1],[3,-1,-1]])) #CORRECT\n",
    "print(check_tree([[1,1,2],[2,-1,-1],[3,-1,-1]])) #INCORRECT\n",
    "print(check_tree([])) #CORRECT\n",
    "print(check_tree([[1,-1,1],[2,-1,2],[3,-1,3],[4,-1,4],[5,-1,-1]])) #CORRECT\n",
    "print(check_tree([[4,1,2],[2,3,4],[6,5,6],[1,-1,-1],[3,-1,-1],[5,-1,-1],[7,-1,-1]])) #CORRECT\n",
    "print(check_tree([[4,1,-1],[2,2,3],[1,-1,-1],[5,-1,-1]])) #INCORRECT"
   ]
  },
  {
   "cell_type": "code",
   "execution_count": null,
   "metadata": {
    "collapsed": true
   },
   "outputs": [],
   "source": []
  },
  {
   "cell_type": "code",
   "execution_count": null,
   "metadata": {
    "collapsed": true
   },
   "outputs": [],
   "source": []
  },
  {
   "cell_type": "code",
   "execution_count": null,
   "metadata": {
    "collapsed": true
   },
   "outputs": [],
   "source": []
  },
  {
   "cell_type": "code",
   "execution_count": null,
   "metadata": {
    "collapsed": true
   },
   "outputs": [],
   "source": []
  }
 ],
 "metadata": {
  "kernelspec": {
   "display_name": "Python 3",
   "language": "python",
   "name": "python3"
  },
  "language_info": {
   "codemirror_mode": {
    "name": "ipython",
    "version": 3
   },
   "file_extension": ".py",
   "mimetype": "text/x-python",
   "name": "python",
   "nbconvert_exporter": "python",
   "pygments_lexer": "ipython3",
   "version": "3.7.1"
  }
 },
 "nbformat": 4,
 "nbformat_minor": 2
}
