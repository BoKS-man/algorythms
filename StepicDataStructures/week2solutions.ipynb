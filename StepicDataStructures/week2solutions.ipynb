{
 "cells": [
  {
   "cell_type": "markdown",
   "metadata": {
    "collapsed": true
   },
   "source": [
    "<h1>Task 1"
   ]
  },
  {
   "cell_type": "code",
   "execution_count": 1,
   "metadata": {
    "collapsed": true
   },
   "outputs": [],
   "source": [
    "class forest:\n",
    "    swap_log = []\n",
    "    tree = []\n",
    "    \n",
    "    def parent(self, i):\n",
    "        return int((i-1)/2)\n",
    "\n",
    "    def left_child(self, i):\n",
    "        return 2*i+1\n",
    "\n",
    "    def right_child(self, i):\n",
    "        return 2*i+2\n",
    "\n",
    "    def swap(self, i1, i2):\n",
    "        #print('swap ' + str(i1) + ' and ' + str(i2))\n",
    "        self.swap_log.append([i1, i2])\n",
    "        i = self.tree[i1]\n",
    "        self.tree[i1] = self.tree[i2]\n",
    "        self.tree[i2] = i\n",
    "\n",
    "    def min_sift_down(self, i):\n",
    "        #print('sift_down: ' + str(i))\n",
    "        min_index = i\n",
    "        l = self.left_child(i)\n",
    "        if l <= len(self.tree) and self.tree[l] < self.tree[min_index]:\n",
    "            min_index = l\n",
    "        z = self.right_child(i)\n",
    "        if z <= len(self.tree) and self.tree[z] < self.tree[min_index]:\n",
    "            min_index = z\n",
    "        if i != min_index:\n",
    "            self.swap(i, min_index)\n",
    "            self.min_sift_down(min_index)\n",
    "\n",
    "    def log_make_heap(self, n, tree):\n",
    "        self.swap_log = []\n",
    "        self.tree = tree\n",
    "        i = int(n/2)-1\n",
    "        while i >= 0:\n",
    "            #print(i)\n",
    "            self.min_sift_down(i)\n",
    "            i -= 1\n",
    "        self.swap_log.insert(0, len(self.swap_log))\n",
    "        return self.swap_log"
   ]
  },
  {
   "cell_type": "code",
   "execution_count": 2,
   "metadata": {},
   "outputs": [
    {
     "name": "stdout",
     "output_type": "stream",
     "text": [
      "[3, [1, 4], [0, 1], [1, 3]]\n",
      "[0]\n"
     ]
    }
   ],
   "source": [
    "a = forest()\n",
    "print(a.log_make_heap(5, [5,4,3,2,1])),\\\n",
    "#3,[[1,4],[0,1],[1,3]]\n",
    "print(a.log_make_heap(5, [1,2,3,4,5]))\n",
    "#0"
   ]
  },
  {
   "cell_type": "markdown",
   "metadata": {
    "collapsed": true
   },
   "source": [
    "<h1>Task 2"
   ]
  },
  {
   "cell_type": "code",
   "execution_count": 3,
   "metadata": {
    "collapsed": true
   },
   "outputs": [],
   "source": [
    "class forest2(forest):\n",
    "    \n",
    "    def min_sift_down(self, i):\n",
    "        #print('sift_down: ' + str(i))\n",
    "        min_index = i\n",
    "        l = self.left_child(i)\n",
    "        if l < len(self.tree) and\\\n",
    "        self.tree[l][1] <= self.tree[min_index][1]:\n",
    "            min_index = l\n",
    "        r = self.right_child(i)\n",
    "        if r < len(self.tree) and\\\n",
    "        ((self.tree[r][1] <= self.tree[min_index][1] and\\\n",
    "         self.tree[r][0] < self.tree[min_index][0]) or\\\n",
    "        self.tree[r][1] < self.tree[min_index][1]):\n",
    "            min_index = r\n",
    "        if i != min_index:\n",
    "            self.swap(i, min_index)\n",
    "            self.min_sift_down(min_index)\n",
    "    \n",
    "    def tasks2treads(self,r1,r2):\n",
    "        result = []\n",
    "        n = r1[0]\n",
    "        m = r1[1]\n",
    "        self.tree = []\n",
    "        for i in range(n):\n",
    "            self.tree.append([i, 0])\n",
    "        for i in r2:\n",
    "            result.append([self.tree[0][0], self.tree[0][1]])\n",
    "            #print(self.tree)\n",
    "            self.tree[0][1] += i\n",
    "            self.min_sift_down(0)\n",
    "        return result"
   ]
  },
  {
   "cell_type": "code",
   "execution_count": 4,
   "metadata": {
    "scrolled": true
   },
   "outputs": [
    {
     "name": "stdout",
     "output_type": "stream",
     "text": [
      "[[0, 0], [1, 0], [0, 1], [1, 2], [0, 4]]\n",
      "[[0, 0], [1, 0], [2, 0], [3, 0], [0, 1], [1, 1], [2, 1], [3, 1], [0, 2], [1, 2], [2, 2], [3, 2], [0, 3], [1, 3], [2, 3], [3, 3], [0, 4], [1, 4], [2, 4], [3, 4]]\n"
     ]
    }
   ],
   "source": [
    "f2 = forest2()\n",
    "print(f2.tasks2treads([2,5],[1,2,3,4,5])),\\\n",
    "#[[0,0],[1,0],[0,1],[1,2],[0,4]]\n",
    "print(f2.tasks2treads([4,20],[1,1,1,1,1,1,1,1,1,1,1,1,1,1,1,1,1,1,1,1]))\n",
    "#[[0,0],[1,0],[2,0],[3,0],[0,1],[1,1],[2,1],[3,1],[0,2],[1,2],\n",
    "#[2,2],[3,2],[0,3],[1,3],[2,3],[3,3],[0,4],[1,4],[2,4],[3,4]]"
   ]
  },
  {
   "cell_type": "markdown",
   "metadata": {},
   "source": [
    "<h1>Task 3"
   ]
  },
  {
   "cell_type": "code",
   "execution_count": 24,
   "metadata": {},
   "outputs": [],
   "source": [
    "def tab_merge_task(m, n, t_size, m_query):\n",
    "    max_size = max(t_size)\n",
    "    m_size_log = []\n",
    "    for o in m_query:\n",
    "        if o[0] != o[1]:\n",
    "            t_size[o[1]-1] += t_size[o[0]-1]\n",
    "            if t_size[o[1]-1] > max_size:\n",
    "                max_size = t_size[o[1]-1]\n",
    "        m_size_log.append(max_size)           \n",
    "    return m_size_log"
   ]
  },
  {
   "cell_type": "code",
   "execution_count": 25,
   "metadata": {},
   "outputs": [
    {
     "name": "stdout",
     "output_type": "stream",
     "text": [
      "[2, 2, 3, 5, 5]\n",
      "[10, 10, 10, 11]\n"
     ]
    }
   ],
   "source": [
    "print(tab_merge_task(5, 5, [1,1,1,1,1], [[3,5],[2,4],[1,4],[5,4],[5,3]])),\\\n",
    "#[2,2,3,5,5]\n",
    "print(tab_merge_task(6, 4, [10,0,5,0,3,3], [[6,6],[6,5],[5,4],[4,3]]))\n",
    "#[10,10,10,11]"
   ]
  },
  {
   "cell_type": "markdown",
   "metadata": {},
   "source": [
    "<h1>Task 4"
   ]
  },
  {
   "cell_type": "code",
   "execution_count": 26,
   "metadata": {
    "collapsed": true
   },
   "outputs": [],
   "source": [
    "def check_equal_system(n, e, d, v_pairs):\n",
    "    var = [0 for i in range(n)]\n",
    "    return var   "
   ]
  },
  {
   "cell_type": "code",
   "execution_count": 29,
   "metadata": {},
   "outputs": [
    {
     "name": "stdout",
     "output_type": "stream",
     "text": [
      "[0, 0, 0, 0]\n"
     ]
    }
   ],
   "source": [
    "print(check_equal_system(4,6,0,[[1,2],[1,3],[1,4],[2,3],[2,4],[3,4]]))\n",
    "#1"
   ]
  },
  {
   "cell_type": "code",
   "execution_count": null,
   "metadata": {
    "collapsed": true
   },
   "outputs": [],
   "source": []
  },
  {
   "cell_type": "code",
   "execution_count": null,
   "metadata": {
    "collapsed": true
   },
   "outputs": [],
   "source": []
  },
  {
   "cell_type": "code",
   "execution_count": null,
   "metadata": {
    "collapsed": true
   },
   "outputs": [],
   "source": []
  },
  {
   "cell_type": "code",
   "execution_count": null,
   "metadata": {
    "collapsed": true
   },
   "outputs": [],
   "source": []
  }
 ],
 "metadata": {
  "kernelspec": {
   "display_name": "Python 3",
   "language": "python",
   "name": "python3"
  },
  "language_info": {
   "codemirror_mode": {
    "name": "ipython",
    "version": 3
   },
   "file_extension": ".py",
   "mimetype": "text/x-python",
   "name": "python",
   "nbconvert_exporter": "python",
   "pygments_lexer": "ipython3",
   "version": "3.6.1"
  }
 },
 "nbformat": 4,
 "nbformat_minor": 2
}
