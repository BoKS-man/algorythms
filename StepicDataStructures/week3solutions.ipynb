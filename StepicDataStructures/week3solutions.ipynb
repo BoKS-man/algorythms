{
 "cells": [
  {
   "cell_type": "markdown",
   "metadata": {},
   "source": [
    "<h1>Task 1"
   ]
  },
  {
   "cell_type": "code",
   "execution_count": 14,
   "metadata": {
    "collapsed": true
   },
   "outputs": [],
   "source": [
    "def phoneWork(workList):\n",
    "    phoneBook = {}\n",
    "    for task in workList:\n",
    "        if task[0] == \"add\":\n",
    "            phoneBook[task[1]] = task[2]\n",
    "            continue\n",
    "        if task[0] == \"find\":\n",
    "            print(phoneBook.get(task[1], \"not found\"))\n",
    "            continue\n",
    "        if task[0] == \"del\":\n",
    "            phoneBook.pop(task[1], \"\")"
   ]
  },
  {
   "cell_type": "code",
   "execution_count": 15,
   "metadata": {},
   "outputs": [
    {
     "name": "stdout",
     "output_type": "stream",
     "text": [
      "not found\n",
      "granny\n",
      "me\n",
      "not found\n"
     ]
    }
   ],
   "source": [
    "phoneWork([[\"find\",\"3839442\"],[\"add\",\"123456\",\"me\"],[\"add\",\"0\",\"granny\"],\\\n",
    "[\"find\",\"0\"],[\"find\",\"123456\"],[\"del\",\"0\"],[\"del\",\"0\"],[\"find\",\"0\"]])"
   ]
  },
  {
   "cell_type": "code",
   "execution_count": null,
   "metadata": {
    "collapsed": true
   },
   "outputs": [],
   "source": [
    "n = int(input())\n",
    "tasks = []\n",
    "for i in range(n):\n",
    "    tasks.append(input().split(\" \"))\n",
    "phoneWork(tasks)"
   ]
  },
  {
   "cell_type": "markdown",
   "metadata": {},
   "source": [
    "<h1>Task 2"
   ]
  },
  {
   "cell_type": "code",
   "execution_count": 1,
   "metadata": {
    "collapsed": true
   },
   "outputs": [],
   "source": [
    "class task2():\n",
    "    p = 1000000007\n",
    "    x = 263\n",
    "    m = 0\n",
    "    hTable = []\n",
    "    \n",
    "    def hSum(self, word):\n",
    "        hSum = 0\n",
    "        for i in range(len(word)):\n",
    "            l = word[i]\n",
    "            hSum += ((ord(l) % self.p) * ((self.x**i) % self.p))\n",
    "            #print(str(i) + \".1\" + str(hSum))\n",
    "            hSum %= self.p\n",
    "            #print(str(i) + \".2\" + str(hSum))\n",
    "        hSum %= self.m\n",
    "        return hSum\n",
    "    \n",
    "    def findKey(self, key):\n",
    "        for i in range(len(self.hTable)):\n",
    "            if self.hTable[i][0] == key:\n",
    "                #print('key' + str(key) + ' = ' + str(i))\n",
    "                return i\n",
    "        return -1\n",
    "    \n",
    "    def findValue(self, keyIndex, value):\n",
    "        values = self.hTable[keyIndex][1]\n",
    "        for i in range(len(values)):\n",
    "            if values[i] == value:\n",
    "                return i\n",
    "        return -1\n",
    "    \n",
    "    def addWord(self, word):\n",
    "        wKey = self.hSum(word)\n",
    "        kIndex = self.findKey(wKey)\n",
    "        if kIndex < 0:\n",
    "            self.hTable.append([wKey,[word]])\n",
    "            return False\n",
    "        wIndex = self.findValue(kIndex, word)\n",
    "        if wIndex >= 0:\n",
    "            return False\n",
    "        self.hTable[kIndex][1] == self.hTable[kIndex][1].insert(0, word)\n",
    "        return True\n",
    "        \n",
    "    def delWord(self, word):\n",
    "        wKey = self.hSum(word)\n",
    "        kIndex = self.findKey(wKey)\n",
    "        if kIndex < 0:\n",
    "            return False\n",
    "        wIndex = self.findValue(kIndex, word)\n",
    "        if wIndex < 0:\n",
    "            return False\n",
    "        self.hTable[kIndex][1].pop(wIndex)\n",
    "        return True\n",
    "    \n",
    "    def findWord(self, word):\n",
    "        wKey = self.hSum(word)\n",
    "        kIndex = self.findKey(wKey)\n",
    "        if kIndex < 0:\n",
    "            return 'No'\n",
    "        wIndex = self.findValue(kIndex, word)\n",
    "        if wIndex < 0:\n",
    "            return 'No'\n",
    "        return 'Yes'\n",
    "    \n",
    "    def check (self, i):\n",
    "        result = ''\n",
    "        kIndex = self.findKey(i)\n",
    "        if kIndex >= 0:\n",
    "            result = ' '.join(self.hTable[kIndex][1])\n",
    "        return result\n",
    "    \n",
    "    def run(self, m, tasks):\n",
    "        self.m = m\n",
    "        for task in tasks:\n",
    "            if task[0] == 'add':\n",
    "                self.addWord(task[1])\n",
    "            if task[0] == 'del':\n",
    "                self.delWord(task[1])\n",
    "            if task[0] == 'find':\n",
    "                print(self.findWord(task[1]))\n",
    "            if task[0] == 'check':\n",
    "                print(self.check(int(task[1])))\n",
    "            #print(self.hTable)\n",
    "        return"
   ]
  },
  {
   "cell_type": "code",
   "execution_count": 30,
   "metadata": {
    "collapsed": true
   },
   "outputs": [],
   "source": [
    "class task2_1():\n",
    "    p = 1000000007\n",
    "    x = 263\n",
    "    m = 0\n",
    "    keys = []\n",
    "    values = []\n",
    "    \n",
    "    def hSum(self, word):\n",
    "        hSum = 0\n",
    "        for i in range(len(word)):\n",
    "            l = word[i]\n",
    "            hSum += ((ord(l) % self.p) * ((self.x**i) % self.p))\n",
    "            hSum %= self.p\n",
    "        hSum %= self.m\n",
    "        return hSum\n",
    "    \n",
    "    def run(self, m, tasks):\n",
    "        self.m = m\n",
    "        self.keys.clear()\n",
    "        self.values.clear()\n",
    "        for task in tasks:\n",
    "            t0 = task[0]\n",
    "            t1 = task[1]\n",
    "            if t0 == 'check':\n",
    "                t1 = int(t1)\n",
    "                if self.keys.count(t1) > 0:\n",
    "                    print(' '.join(self.values[self.keys.index(t1)]))\n",
    "            else:\n",
    "                i = -1\n",
    "                h = self.hSum(t1)\n",
    "                if self.keys.count(h) > 0:\n",
    "                    i = self.keys.index(h)\n",
    "                if t0 == 'add':\n",
    "                    if i >= 0:\n",
    "                        if self.values[i].count(t1) == 0:\n",
    "                            self.values[i].insert(0, t1)\n",
    "                    else:\n",
    "                        self.keys.append(h)\n",
    "                        self.values.append([t1])\n",
    "                if t0 == 'del':\n",
    "                    if i >= 0:\n",
    "                        if self.values[i].count(t1) > 0:\n",
    "                            self.values[i].pop(self.values[i].index(t1))\n",
    "                if t0 == 'find':\n",
    "                    if i >= 0:\n",
    "                        if self.values[i].count(t1) > 0:\n",
    "                            print('yes')\n",
    "                            continue\n",
    "                    print('no')"
   ]
  },
  {
   "cell_type": "code",
   "execution_count": 32,
   "metadata": {
    "scrolled": true
   },
   "outputs": [
    {
     "name": "stdout",
     "output_type": "stream",
     "text": [
      "HellO world\n",
      "No\n",
      "Yes\n",
      "HellO\n",
      "GooD luck\n",
      "-----\n",
      "HellO world\n",
      "no\n",
      "yes\n",
      "HellO\n",
      "GooD luck\n"
     ]
    }
   ],
   "source": [
    "t2 = task2()\n",
    "t2.run(5, [[\"add\",\"world\"],[\"add\",\"HellO\"],[\"check\",\"4\"],[\"find\",\"World\"],\\\n",
    "        [\"find\",\"world\"],[\"del\",\"world\"],[\"check\",\"4\"],[\"del\",\"HellO\"],\\\n",
    "        [\"add\",\"luck\"],[\"add\",\"GooD\"],[\"check\",\"2\"],[\"del\",\"good\"]])\n",
    "print('-----')\n",
    "t2_1 = task2_1()\n",
    "t2_1.run(5, [[\"add\",\"world\"],[\"add\",\"HellO\"],[\"check\",\"4\"],[\"find\",\"World\"],\\\n",
    "        [\"find\",\"world\"],[\"del\",\"world\"],[\"check\",\"4\"],[\"del\",\"HellO\"],\\\n",
    "        [\"add\",\"luck\"],[\"add\",\"GooD\"],[\"check\",\"2\"],[\"del\",\"good\"]])"
   ]
  },
  {
   "cell_type": "code",
   "execution_count": 4,
   "metadata": {},
   "outputs": [
    {
     "name": "stdout",
     "output_type": "stream",
     "text": [
      "5\n",
      "2\n",
      "e\n",
      "e\n"
     ]
    }
   ],
   "source": [
    "m = int(input())\n",
    "n = int(input())\n",
    "tasks = []\n",
    "for i in range(n):\n",
    "    tasks.append(input().split(' '))\n",
    "t2 = task2()\n",
    "t2.run(m, tasks)"
   ]
  },
  {
   "cell_type": "code",
   "execution_count": null,
   "metadata": {
    "collapsed": true
   },
   "outputs": [],
   "source": []
  },
  {
   "cell_type": "code",
   "execution_count": null,
   "metadata": {
    "collapsed": true
   },
   "outputs": [],
   "source": []
  }
 ],
 "metadata": {
  "kernelspec": {
   "display_name": "Python 3",
   "language": "python",
   "name": "python3"
  },
  "language_info": {
   "codemirror_mode": {
    "name": "ipython",
    "version": 3
   },
   "file_extension": ".py",
   "mimetype": "text/x-python",
   "name": "python",
   "nbconvert_exporter": "python",
   "pygments_lexer": "ipython3",
   "version": "3.6.1"
  }
 },
 "nbformat": 4,
 "nbformat_minor": 2
}
